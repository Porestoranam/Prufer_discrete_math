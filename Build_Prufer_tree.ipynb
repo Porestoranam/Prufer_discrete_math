{
 "cells": [
  {
   "cell_type": "markdown",
   "metadata": {},
   "source": [
    "# The programm build tree by prufer code"
   ]
  },
  {
   "cell_type": "code",
   "execution_count": 9,
   "metadata": {},
   "outputs": [
    {
     "name": "stdout",
     "output_type": "stream",
     "text": [
      "Enter your prufer code separated by space:\n",
      "2 3 4\n"
     ]
    },
    {
     "data": {
      "image/png": "[encoded data removed]",
      "text/plain": [
       "<Figure size 432x288 with 1 Axes>"
      ]
     },
     "metadata": {},
     "output_type": "display_data"
    }
   ],
   "source": [
    "import networkx as nx\n",
    "from networkx import *\n",
    "import pylab as py\n",
    "import warnings\n",
    "warnings.filterwarnings(\"ignore\", category=UserWarning)\n",
    "\n",
    "def correct_prufer_code(prufer_code):\n",
    "    for i in prufer_code:\n",
    "        if i < 0 or i > number_of_vertices - 1:\n",
    "            return False\n",
    "    return True\n",
    "\n",
    "def build_graph_by_prufer(prufer_code, graph, number_of_vertices):\n",
    "    degree = [1] * number_of_vertices\n",
    "    for i in range(number_of_vertices - 2):\n",
    "        degree[prufer_code[i]] += 1\n",
    " \n",
    "    leaf_candidate = 0\n",
    "    while leaf_candidate < number_of_vertices and degree[leaf_candidate] != 1:\n",
    "        leaf_candidate += 1\n",
    "    leaf = leaf_candidate\n",
    " \n",
    "    for i in range(number_of_vertices - 2):\n",
    "        vertex = prufer_code[i]\n",
    "        graph.add_edge(leaf, vertex)\n",
    " \n",
    "        degree[leaf] -= 1\n",
    "        degree[vertex] -= 1\n",
    "        if degree[vertex] == 1 and vertex < leaf_candidate:\n",
    "            leaf = vertex\n",
    "        else:\n",
    "            leaf_candidate += 1\n",
    "            while leaf_candidate < number_of_vertices and degree[leaf_candidate] != 1:\n",
    "                leaf_candidate += 1\n",
    "            leaf = leaf_candidate\n",
    "    for vertex in range(number_of_vertices - 1):\n",
    "        if degree[vertex] == 1:\n",
    "            graph.add_edge(vertex, number_of_vertices - 1)\n",
    "\n",
    "print(\"Enter your prufer code separated by space:\")\n",
    "prufer_code = list(map(int, input().split()))\n",
    "number_of_vertices = len(prufer_code) + 2\n",
    "if(not correct_prufer_code(prufer_code)):\n",
    "    print(\"You entered incorrect prufer code\")\n",
    "else:\n",
    "    graph = nx.Graph()\n",
    "    build_graph_by_prufer(prufer_code, graph, number_of_vertices)\n",
    "    nx.draw(graph, node_size=1000, node_color='y', edge_color= 'b', with_labels = True)\n",
    "    graph.clear()"
   ]
  }
 ],
 "metadata": {
  "kernelspec": {
   "display_name": "Python 3",
   "language": "python",
   "name": "python3"
  },
  "language_info": {
   "codemirror_mode": {
    "name": "ipython",
    "version": 3
   },
   "file_extension": ".py",
   "mimetype": "text/x-python",
   "name": "python",
   "nbconvert_exporter": "python",
   "pygments_lexer": "ipython3",
   "version": "3.7.4"
  }
 },
 "nbformat": 4,
 "nbformat_minor": 2
}
